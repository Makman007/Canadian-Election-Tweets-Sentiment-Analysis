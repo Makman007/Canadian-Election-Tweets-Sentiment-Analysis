{
 "cells": [
  {
   "cell_type": "markdown",
   "metadata": {},
   "source": [
    "# Final Project\n",
    "## 2015 Canadian Election Federal Election Sentiment Analysis"
   ]
  },
  {
   "cell_type": "code",
   "execution_count": 45,
   "metadata": {},
   "outputs": [],
   "source": [
    "#Declare necesasry imports\n",
    "\n",
    "import numpy as np\n",
    "import pandas as pd\n",
    "import string\n",
    "import nltk\n",
    "\n",
    "from sklearn.feature_extraction.text import TfidfVectorizer, CountVectorizer\n",
    "from sklearn.naive_bayes import MultinomialNB\n",
    "from sklearn.model_selection import train_test_split\n",
    "\n",
    "import matplotlib.pyplot as plt\n",
    "%matplotlib inline"
   ]
  },
  {
   "cell_type": "code",
   "execution_count": 27,
   "metadata": {},
   "outputs": [],
   "source": [
    "#Ingest the data\n",
    "classified_txt = 'classified_tweets.txt'\n",
    "unclassified_txt = 'unclassified_tweets.txt'\n",
    "\n",
    "classified_df = pd.read_csv(classified_txt, header=None, names=['Tweet_data'])"
   ]
  },
  {
   "cell_type": "code",
   "execution_count": 28,
   "metadata": {},
   "outputs": [
    {
     "data": {
      "text/html": [
       "<div>\n",
       "<style scoped>\n",
       "    .dataframe tbody tr th:only-of-type {\n",
       "        vertical-align: middle;\n",
       "    }\n",
       "\n",
       "    .dataframe tbody tr th {\n",
       "        vertical-align: top;\n",
       "    }\n",
       "\n",
       "    .dataframe thead th {\n",
       "        text-align: right;\n",
       "    }\n",
       "</style>\n",
       "<table border=\"1\" class=\"dataframe\">\n",
       "  <thead>\n",
       "    <tr style=\"text-align: right;\">\n",
       "      <th></th>\n",
       "      <th>Tweet_data</th>\n",
       "    </tr>\n",
       "  </thead>\n",
       "  <tbody>\n",
       "    <tr>\n",
       "      <th>0</th>\n",
       "      <td>0 @switchfoot http://twitpic.com/2y1zl - Awww ...</td>\n",
       "    </tr>\n",
       "    <tr>\n",
       "      <th>1</th>\n",
       "      <td>0 is upset that he can't update his Facebook b...</td>\n",
       "    </tr>\n",
       "    <tr>\n",
       "      <th>2</th>\n",
       "      <td>0 @Kenichan I dived many times for the ball. M...</td>\n",
       "    </tr>\n",
       "    <tr>\n",
       "      <th>3</th>\n",
       "      <td>0 my whole body feels itchy and like its on fire</td>\n",
       "    </tr>\n",
       "    <tr>\n",
       "      <th>4</th>\n",
       "      <td>0 @nationwideclass no  it's not behaving at al...</td>\n",
       "    </tr>\n",
       "  </tbody>\n",
       "</table>\n",
       "</div>"
      ],
      "text/plain": [
       "                                          Tweet_data\n",
       "0  0 @switchfoot http://twitpic.com/2y1zl - Awww ...\n",
       "1  0 is upset that he can't update his Facebook b...\n",
       "2  0 @Kenichan I dived many times for the ball. M...\n",
       "3  0 my whole body feels itchy and like its on fire \n",
       "4  0 @nationwideclass no  it's not behaving at al..."
      ]
     },
     "execution_count": 28,
     "metadata": {},
     "output_type": "execute_result"
    }
   ],
   "source": [
    "classified_df.head()"
   ]
  },
  {
   "cell_type": "code",
   "execution_count": 29,
   "metadata": {},
   "outputs": [
    {
     "data": {
      "text/plain": [
       "200000"
      ]
     },
     "execution_count": 29,
     "metadata": {},
     "output_type": "execute_result"
    }
   ],
   "source": [
    "# Look at length of data set\n",
    "len(classified_df)"
   ]
  },
  {
   "cell_type": "code",
   "execution_count": 30,
   "metadata": {},
   "outputs": [
    {
     "name": "stdout",
     "output_type": "stream",
     "text": [
      "0 @switchfoot http://twitpic.com/2y1zl - Awww  that's a bummer.  You shoulda got David Carr of Third Day to do it. ;D\n"
     ]
    }
   ],
   "source": [
    "# Look at a sample record\n",
    "print(classified_df.loc[0][0])"
   ]
  },
  {
   "cell_type": "markdown",
   "metadata": {},
   "source": [
    "**Data Cleaning** \n",
    "\n",
    "We will strip the first character of each string which is a 0 (negative sentiment) or a 4 (positive sentiment) in this data set and store in a new column in the df"
   ]
  },
  {
   "cell_type": "code",
   "execution_count": 103,
   "metadata": {},
   "outputs": [],
   "source": [
    "# Utility fucntion for pulling sentiment, and removing the value from original tweet string\n",
    "\n",
    "def sentiment(tweet):\n",
    "    sent = tweet[0]\n",
    "    return sent\n",
    "    \n",
    "def strip(tweet):\n",
    "    if tweet[0] is '0':\n",
    "        new = tweet.strip('0')\n",
    "    elif tweet[0] is '4':\n",
    "        new = tweet.strip('4')\n",
    "    return new\n",
    "\n",
    "def clean_text(tweet):\n",
    "    ''' Takes in text and removes any words in the useless list'''\n",
    "    useless = nltk.corpus.stopwords.words(\"english\") + list(string.punctuation)\n",
    "    t = tweet.split()\n",
    "    new_tweet = \"\"\n",
    "    for word in t:\n",
    "        if not word in useless:\n",
    "            new_tweet = new_tweet + word + \" \"\n",
    "    return new_tweet\n",
    "    \n",
    "    "
   ]
  },
  {
   "cell_type": "code",
   "execution_count": 36,
   "metadata": {},
   "outputs": [],
   "source": [
    "# Use Apply method to utilize utility function over the data frame\n",
    "\n",
    "classified_df['Sentiment'] = classified_df['Tweet_data'].apply(sentiment)\n",
    "classified_df['Tweet'] = classified_df['Tweet_data'].apply(strip)"
   ]
  },
  {
   "cell_type": "code",
   "execution_count": 93,
   "metadata": {
    "scrolled": true
   },
   "outputs": [
    {
     "data": {
      "text/html": [
       "<div>\n",
       "<style scoped>\n",
       "    .dataframe tbody tr th:only-of-type {\n",
       "        vertical-align: middle;\n",
       "    }\n",
       "\n",
       "    .dataframe tbody tr th {\n",
       "        vertical-align: top;\n",
       "    }\n",
       "\n",
       "    .dataframe thead th {\n",
       "        text-align: right;\n",
       "    }\n",
       "</style>\n",
       "<table border=\"1\" class=\"dataframe\">\n",
       "  <thead>\n",
       "    <tr style=\"text-align: right;\">\n",
       "      <th></th>\n",
       "      <th>Tweet_data</th>\n",
       "      <th>Sentiment</th>\n",
       "      <th>Tweet</th>\n",
       "    </tr>\n",
       "  </thead>\n",
       "  <tbody>\n",
       "    <tr>\n",
       "      <th>0</th>\n",
       "      <td>0 @switchfoot http://twitpic.com/2y1zl - Awww ...</td>\n",
       "      <td>0</td>\n",
       "      <td>@switchfoot http://twitpic.com/yzl Awww that's...</td>\n",
       "    </tr>\n",
       "    <tr>\n",
       "      <th>1</th>\n",
       "      <td>0 is upset that he can't update his Facebook b...</td>\n",
       "      <td>0</td>\n",
       "      <td>upset can't update Facebook texting it... migh...</td>\n",
       "    </tr>\n",
       "    <tr>\n",
       "      <th>2</th>\n",
       "      <td>0 @Kenichan I dived many times for the ball. M...</td>\n",
       "      <td>0</td>\n",
       "      <td>@Kenichan I dived many times ball. Managed sav...</td>\n",
       "    </tr>\n",
       "    <tr>\n",
       "      <th>3</th>\n",
       "      <td>0 my whole body feels itchy and like its on fire</td>\n",
       "      <td>0</td>\n",
       "      <td>whole body feels itchy like fire</td>\n",
       "    </tr>\n",
       "    <tr>\n",
       "      <th>4</th>\n",
       "      <td>0 @nationwideclass no  it's not behaving at al...</td>\n",
       "      <td>0</td>\n",
       "      <td>@nationwideclass behaving all. i'm mad. here? ...</td>\n",
       "    </tr>\n",
       "  </tbody>\n",
       "</table>\n",
       "</div>"
      ],
      "text/plain": [
       "                                          Tweet_data Sentiment  \\\n",
       "0  0 @switchfoot http://twitpic.com/2y1zl - Awww ...         0   \n",
       "1  0 is upset that he can't update his Facebook b...         0   \n",
       "2  0 @Kenichan I dived many times for the ball. M...         0   \n",
       "3  0 my whole body feels itchy and like its on fire          0   \n",
       "4  0 @nationwideclass no  it's not behaving at al...         0   \n",
       "\n",
       "                                               Tweet  \n",
       "0  @switchfoot http://twitpic.com/yzl Awww that's...  \n",
       "1  upset can't update Facebook texting it... migh...  \n",
       "2  @Kenichan I dived many times ball. Managed sav...  \n",
       "3                  whole body feels itchy like fire   \n",
       "4  @nationwideclass behaving all. i'm mad. here? ...  "
      ]
     },
     "execution_count": 93,
     "metadata": {},
     "output_type": "execute_result"
    }
   ],
   "source": [
    "classified_df.head()"
   ]
  },
  {
   "cell_type": "code",
   "execution_count": 43,
   "metadata": {},
   "outputs": [],
   "source": [
    "# Code to remove any unnecessary numbers in the strings as they can compromize tokens\n",
    "classified_df['Tweet'] = classified_df['Tweet'].str.replace('(\\d)','')"
   ]
  },
  {
   "cell_type": "code",
   "execution_count": 79,
   "metadata": {},
   "outputs": [
    {
     "data": {
      "text/plain": [
       "\" @switchfoot http://twitpic.com/yzl - Awww  that's a bummer.  You shoulda got David Carr of Third Day to do it. ;D\""
      ]
     },
     "execution_count": 79,
     "metadata": {},
     "output_type": "execute_result"
    }
   ],
   "source": [
    "(classified_df['Tweet'][0])"
   ]
  },
  {
   "cell_type": "code",
   "execution_count": 80,
   "metadata": {
    "scrolled": true
   },
   "outputs": [
    {
     "data": {
      "text/plain": [
       "0         @switchfoot http://twitpic.com/yzl Awww that's...\n",
       "1         upset can't update Facebook texting it... migh...\n",
       "2         @Kenichan I dived many times ball. Managed sav...\n",
       "3                         whole body feels itchy like fire \n",
       "4         @nationwideclass behaving all. i'm mad. here? ...\n",
       "5                                     @Kwesidei whole crew \n",
       "6                                                 Need hug \n",
       "7         @LOLTrish hey long time see! Yes.. Rains bit b...\n",
       "8                                          @Tatiana_K nope \n",
       "9                                      @twittera que muera \n",
       "10                      spring break plain city... snowing \n",
       "11                                       I re-pierced ears \n",
       "12        @caregiving I bear watch it. And I thought UA ...\n",
       "13        @octolinz It counts idk I either. never talk a...\n",
       "14        @smarrison would've first gun. really though z...\n",
       "15        @iamjazzyfizzle I wish I got watch you!! I mis...\n",
       "16        Hollis' death scene hurt severely watch film w...\n",
       "17                                              file taxes \n",
       "18        @LettyA ahh ive always wanted see rent love so...\n",
       "19        @FakerPattyPattz Oh dear. Were drinking forgot...\n",
       "20                           @alydesigns day get much done \n",
       "21        one friend called asked meet Mid Valley today....\n",
       "22                      @angry_barista I baked cake I ated \n",
       "23                                        week going hoped \n",
       "24                                    blagh class tomorrow \n",
       "25                               I hate I call wake people \n",
       "26                Just going cry sleep watching Marley Me. \n",
       "27                                       im sad Miss.Lilly \n",
       "28            ooooh.... LOL leslie.... ok I leslie get mad \n",
       "29        Meh... Almost Lover exception... track gets de...\n",
       "                                ...                        \n",
       "199970    @fipz know stepford wives. I live st mary's is...\n",
       "199971                                   @tpleeza thank yu \n",
       "199972    I update Twitter middle night piss everyone li...\n",
       "199973    Almost done Sunday tasks including open sourci...\n",
       "199974                            @HLB_LAVISH_MAG Excatly! \n",
       "199975    @drellbee going lens shopping? I want macro re...\n",
       "199976    @ShalG hai naa..by *also* refer obssessions im...\n",
       "199977    uploading images web... yep Listya &amp; Hendi...\n",
       "199978    @DumbLittleBunny newbies.. malakai thanh li st...\n",
       "199979                                 sucking cock tonite \n",
       "199980                          Red Symonds Prime Minister \n",
       "199981                                   @tishh oh say it. \n",
       "199982    @perth Lushy I tee interview MD Sexpo Friday? ...\n",
       "199983    @JoelMadden So sorry tweeting you..I read twee...\n",
       "199984    pre nd brain surgery song... http://blip.fm/~j...\n",
       "199985    @LMarie awwwwwww thanks yeah..real dope flick ...\n",
       "199986         http://twitpic.com/jr wanna laugh?! SUMMER! \n",
       "199987    Video arch yesterday taken @BrianKerrPhoto Bai...\n",
       "199988    Wow twitter getting serious traffic now.... wh...\n",
       "199989          destined e-harmony user?? sometimes wonder \n",
       "199990                        @Hollywood_Trey u doinn sexc \n",
       "199991    @amyyyishere 'y's ur name? anyway hi! post som...\n",
       "199992            @yoomyee haha sorry LOL. Btw nice meet u \n",
       "199993                                     Ok. On way work \n",
       "199994     got kidding @ladypn Are ok http://blip.fm/~jbhr \n",
       "199995    @jvdouglas haha remark maternity leave fired l...\n",
       "199996                                       @altitis you! \n",
       "199997    Okie doke!! Time escape North Massa's back tur...\n",
       "199998                            finished lessons hooray! \n",
       "199999    Some ppl fucking KP. Cb Stop asking laa.. I lo...\n",
       "Name: Tweet, Length: 200000, dtype: object"
      ]
     },
     "execution_count": 80,
     "metadata": {},
     "output_type": "execute_result"
    }
   ],
   "source": [
    "# Remove any of the useless words from our tweets\n",
    "#clean_text(classified_df['Tweet'][0],useless_words) \n",
    "\n",
    "classified_df['Tweet'] = classified_df['Tweet'].apply(clean_text)\n",
    "classified_df['Tweet']"
   ]
  },
  {
   "cell_type": "markdown",
   "metadata": {},
   "source": [
    "I will be using the **Term Frequency Inverse Document frequecy vectorizer** offered through sci-kit learn that helps to tokenize the strings data (puts more emphasis on words that unique), and generate feature vectors for training of the classification model"
   ]
  },
  {
   "cell_type": "code",
   "execution_count": 232,
   "metadata": {
    "scrolled": true
   },
   "outputs": [],
   "source": [
    "# Using Term Frequencies\n",
    "# TfidVectorizer  = CountVectorizer + Tfidtransfirner\n",
    "\n",
    "# Code to generate feature vectors from given classified tweets corpus\n",
    "# This will generate a feature vectors to be used for training and classification of given tweet texts\n",
    "\n",
    "# Split a training set and a test set (70:30)\n",
    "data_train, data_test, target_train, target_test = train_test_split(classified_df['Tweet'], classified_df['Sentiment'], test_size=0.3)\n",
    "\n",
    "# Create training features for the model, Vectorizer also removes list of stop words from features\n",
    "vectorizer = TfidfVectorizer(stop_words=\"english\")\n",
    "training_features = vectorizer.fit_transform(data_train)\n",
    "\n",
    "#Creating testing feature vectors based on the features fitted from the training data set\n",
    "testing_features = vectorizer.transform(data_test)\n",
    "\n",
    "#vectorizer.get_feature_names()"
   ]
  },
  {
   "cell_type": "markdown",
   "metadata": {},
   "source": [
    "Train the **Naive Bayes Classifier** on this test set"
   ]
  },
  {
   "cell_type": "code",
   "execution_count": 86,
   "metadata": {},
   "outputs": [
    {
     "data": {
      "text/plain": [
       "MultinomialNB(alpha=1, class_prior=None, fit_prior=True)"
      ]
     },
     "execution_count": 86,
     "metadata": {},
     "output_type": "execute_result"
    }
   ],
   "source": [
    "# Train Classifier based on Multinomial Bayes Theoram \n",
    "\n",
    "classifier_bayes = MultinomialNB(alpha = 1)\n",
    "# Enter the feature vectors and the target sentiment values\n",
    "classifier_bayes.fit(training_features,target_train)\n"
   ]
  },
  {
   "cell_type": "markdown",
   "metadata": {},
   "source": [
    "Check the acuracy of the classifier on the test set through its in built scoreing fucntion"
   ]
  },
  {
   "cell_type": "code",
   "execution_count": 87,
   "metadata": {},
   "outputs": [
    {
     "data": {
      "text/plain": [
       "0.7466833333333334"
      ]
     },
     "execution_count": 87,
     "metadata": {},
     "output_type": "execute_result"
    }
   ],
   "source": [
    "# Test the accuracy of the classifer on the test data\n",
    "\n",
    "classifier_bayes.score(testing_features, target_test)"
   ]
  },
  {
   "cell_type": "markdown",
   "metadata": {},
   "source": [
    "Ingest the Unclassified tweets in a dataframe"
   ]
  },
  {
   "cell_type": "code",
   "execution_count": 108,
   "metadata": {
    "scrolled": true
   },
   "outputs": [
    {
     "data": {
      "text/html": [
       "<div>\n",
       "<style scoped>\n",
       "    .dataframe tbody tr th:only-of-type {\n",
       "        vertical-align: middle;\n",
       "    }\n",
       "\n",
       "    .dataframe tbody tr th {\n",
       "        vertical-align: top;\n",
       "    }\n",
       "\n",
       "    .dataframe thead th {\n",
       "        text-align: right;\n",
       "    }\n",
       "</style>\n",
       "<table border=\"1\" class=\"dataframe\">\n",
       "  <thead>\n",
       "    <tr style=\"text-align: right;\">\n",
       "      <th></th>\n",
       "      <th>Tweet</th>\n",
       "    </tr>\n",
       "  </thead>\n",
       "  <tbody>\n",
       "    <tr>\n",
       "      <th>0</th>\n",
       "      <td>living the dream. #cameraman #camera #camerace...</td>\n",
       "    </tr>\n",
       "    <tr>\n",
       "      <th>1</th>\n",
       "      <td>justin #trudeau's reasons for thanksgiving. to...</td>\n",
       "    </tr>\n",
       "    <tr>\n",
       "      <th>2</th>\n",
       "      <td>@themadape   butt…..butt…..we’re allergic to l...</td>\n",
       "    </tr>\n",
       "    <tr>\n",
       "      <th>3</th>\n",
       "      <td>2 massive explosions at peace march in #turkey...</td>\n",
       "    </tr>\n",
       "    <tr>\n",
       "      <th>4</th>\n",
       "      <td>#mulcair suggests there’s bad blood between hi...</td>\n",
       "    </tr>\n",
       "  </tbody>\n",
       "</table>\n",
       "</div>"
      ],
      "text/plain": [
       "                                               Tweet\n",
       "0  living the dream. #cameraman #camera #camerace...\n",
       "1  justin #trudeau's reasons for thanksgiving. to...\n",
       "2  @themadape   butt…..butt…..we’re allergic to l...\n",
       "3  2 massive explosions at peace march in #turkey...\n",
       "4  #mulcair suggests there’s bad blood between hi..."
      ]
     },
     "execution_count": 108,
     "metadata": {},
     "output_type": "execute_result"
    }
   ],
   "source": [
    "unclassified_df = pd.read_csv(unclassified_txt, header=None, names=['Tweet'])\n",
    "unclassified_df.head()"
   ]
  },
  {
   "cell_type": "code",
   "execution_count": 113,
   "metadata": {
    "scrolled": true
   },
   "outputs": [
    {
     "data": {
      "text/plain": [
       "0       living dream. #cameraman #camera #cameraceptio...\n",
       "1       justin #trudeau's reasons thanksgiving. today'...\n",
       "2       @themadape butt…..butt…..we’re allergic latex!...\n",
       "3       massive explosions peace march #turkey. killed...\n",
       "4       #mulcair suggests there’s bad blood #trudeau w...\n",
       "5       #polqc se sort de la marde avec #harper et prê...\n",
       "6       harper gave $m help countries' get right wing ...\n",
       "7                                     tommy taylor added \n",
       "8                         @justintrudeau? @thomasmulcair \n",
       "9                                   tracy retweeted tsec \n",
       "10      icymi: @lylegreg predicting @liberal_party win...\n",
       "11      cbc.ca/news/canada/ottawa/canada-election--ott...\n",
       "12                                                #pjnet \n",
       "13      cop told sex assault prevention students wear ...\n",
       "14                                          @billhillier \n",
       "15                                        it. pls canada \n",
       "16                   #readychange #ndp #tmpm fb.me/nxiue \n",
       "17      believe guy vows spiral canada huge debt tax b...\n",
       "18                     quick vote jays game. #realchange \n",
       "19              #cdnpoli #ndp #thomasmulcair #elxn #elxn \n",
       "20      want make vote count oust #cpc. check @stratvo...\n",
       "21      en rappel pour le plaisir... #trudeau #elxn #p...\n",
       "22      uk slammed un envoy failing understand plight ...\n",
       "23                           @cpac_tv election. #cdnpoli \n",
       "24                                  hari balaraman added \n",
       "25      #lol #mdr #elxn #elxn #polcan #cdnpoli #niqab ...\n",
       "26                                                record \n",
       "27      @kyleseeback @deanallisonmp @walterpamic ashle...\n",
       "28      lapresse.ca/actualites/politique/politique-can...\n",
       "29      #mulcair pret vendre sa mère pr gagner ?le #np...\n",
       "                              ...                        \n",
       "2983    voting @thomasmulcair #primeminister great cou...\n",
       "2984    #votescience #sciencepledge #elxn #cdnpoli twi...\n",
       "2985                            #ndp :\"i love #oil_sands \n",
       "2986                                         bit.ly/vbte \n",
       "2987                           listen man #vote #cdnpoli \n",
       "2988    remember vote #brucecarson #nigelwright #micha...\n",
       "2989    vote trudeau! today tim hortons napanee. photo...\n",
       "2990             #peipoli #pei pic.twitter.com/trqizzddc \n",
       "2991    financement des universités le québec devrait ...\n",
       "2992                   nolibspls retweeted liberal party \n",
       "2993    trust #harper human rights... twitter.com/sunl...\n",
       "2994    stephen harper questioned aid sent quebec one ...\n",
       "2995               julie dzerowicz retweeted jack boland \n",
       "2996    @lucieb ce que je crains c'est que #trudeau co...\n",
       "2997    former pm #tonyabbott took seat on... #primemi...\n",
       "2998    #republican new bio claims lou reed ‘racist’ ‘...\n",
       "2999    cnn: obama plans active role bit.ly/jtaxkv #de...\n",
       "3000                       rose retweeted andrew nichols \n",
       "3001    ndp defence promises could make party top mili...\n",
       "3002    house panelists @acoyne @rosiebarton state cam...\n",
       "3003    @justintrudeau want enslave middle class. #lpc...\n",
       "3004             canada #stoptpp vote #ndp fb.me/kfzwapp \n",
       "3005    #mulcair et son #ami #charest: grands #progres...\n",
       "3006         add video website copying code below. learn \n",
       "3007                            pic.twitter.com/xomvmqhg \n",
       "3008    #conservative tactics like deception admired #...\n",
       "3009    promisedlanding: promisedlanding: ruth_blane: ...\n",
       "3010    rt @althiaraj get know @thomasmulcair question...\n",
       "3011                             #southafrica files case \n",
       "3012          #cndpoli #elxn give away vote someone else \n",
       "Name: Tweet, Length: 3013, dtype: object"
      ]
     },
     "execution_count": 113,
     "metadata": {},
     "output_type": "execute_result"
    }
   ],
   "source": [
    "# Code to remove any unnecessary numbers in the strings as they can compromize tokens\n",
    "unclassified_df['Tweet'] = unclassified_df['Tweet'].astype('str')\n",
    "unclassified_df['Tweet'] = unclassified_df['Tweet'].str.replace('(\\d)','')\n",
    "unclassified_df['Tweet'] = unclassified_df['Tweet'].apply(clean_text)\n",
    "\n",
    "unclassified_df['Tweet']"
   ]
  },
  {
   "cell_type": "code",
   "execution_count": 115,
   "metadata": {},
   "outputs": [],
   "source": [
    "# Generate feaure vectors for the unclassified tweets based on trained data features \n",
    "\n",
    "\n",
    "unclassified_features = vectorizer.transform(unclassified_df['Tweet'])\n",
    "# Get predictions Bayes\n",
    "unclassified_tweet_sentiments_bayes = classifier_bayes.predict(unclassified_features)\n"
   ]
  },
  {
   "cell_type": "code",
   "execution_count": 125,
   "metadata": {},
   "outputs": [],
   "source": [
    "# Store the sentiment in a new column, NOTE 0 is negative, 4 is positive\n",
    "unclassified_df['Sentiment'] = unclassified_tweet_sentiments_bayes"
   ]
  },
  {
   "cell_type": "code",
   "execution_count": 127,
   "metadata": {},
   "outputs": [
    {
     "data": {
      "text/html": [
       "<div>\n",
       "<style scoped>\n",
       "    .dataframe tbody tr th:only-of-type {\n",
       "        vertical-align: middle;\n",
       "    }\n",
       "\n",
       "    .dataframe tbody tr th {\n",
       "        vertical-align: top;\n",
       "    }\n",
       "\n",
       "    .dataframe thead th {\n",
       "        text-align: right;\n",
       "    }\n",
       "</style>\n",
       "<table border=\"1\" class=\"dataframe\">\n",
       "  <thead>\n",
       "    <tr style=\"text-align: right;\">\n",
       "      <th></th>\n",
       "      <th>Tweet</th>\n",
       "      <th>Sentiment</th>\n",
       "    </tr>\n",
       "  </thead>\n",
       "  <tbody>\n",
       "    <tr>\n",
       "      <th>0</th>\n",
       "      <td>living dream. #cameraman #camera #cameraceptio...</td>\n",
       "      <td>0</td>\n",
       "    </tr>\n",
       "    <tr>\n",
       "      <th>1</th>\n",
       "      <td>justin #trudeau's reasons thanksgiving. today'...</td>\n",
       "      <td>4</td>\n",
       "    </tr>\n",
       "    <tr>\n",
       "      <th>2</th>\n",
       "      <td>@themadape butt…..butt…..we’re allergic latex!...</td>\n",
       "      <td>0</td>\n",
       "    </tr>\n",
       "    <tr>\n",
       "      <th>3</th>\n",
       "      <td>massive explosions peace march #turkey. killed...</td>\n",
       "      <td>4</td>\n",
       "    </tr>\n",
       "    <tr>\n",
       "      <th>4</th>\n",
       "      <td>#mulcair suggests there’s bad blood #trudeau w...</td>\n",
       "      <td>4</td>\n",
       "    </tr>\n",
       "  </tbody>\n",
       "</table>\n",
       "</div>"
      ],
      "text/plain": [
       "                                               Tweet Sentiment\n",
       "0  living dream. #cameraman #camera #cameraceptio...         0\n",
       "1  justin #trudeau's reasons thanksgiving. today'...         4\n",
       "2  @themadape butt…..butt…..we’re allergic latex!...         0\n",
       "3  massive explosions peace march #turkey. killed...         4\n",
       "4  #mulcair suggests there’s bad blood #trudeau w...         4"
      ]
     },
     "execution_count": 127,
     "metadata": {},
     "output_type": "execute_result"
    }
   ],
   "source": [
    "unclassified_df.head()"
   ]
  },
  {
   "cell_type": "markdown",
   "metadata": {},
   "source": [
    "Need code to classify the tweets for the different major political parties, in this case there are 4 major political party categories I will consider in the Canadian Context ***'Liberal', 'Conservative', 'NDP', Others'***\n",
    "As this data needs to be assigned to a party, a simple word frequency counter algorithm will be used to assign to each party"
   ]
  },
  {
   "cell_type": "code",
   "execution_count": 133,
   "metadata": {},
   "outputs": [
    {
     "data": {
      "text/plain": [
       "True"
      ]
     },
     "execution_count": 133,
     "metadata": {},
     "output_type": "execute_result"
    }
   ],
   "source": [
    "dic = { i:i**2 for i in range(0,10)}\n",
    "1 in dic.keys()"
   ]
  },
  {
   "cell_type": "code",
   "execution_count": 134,
   "metadata": {},
   "outputs": [],
   "source": [
    "# Preporcessor and tokenizer code\n",
    "\n",
    "preprocessor = vectorizer.build_preprocessor()\n",
    "tokenizer = vectorizer.build_tokenizer()\n",
    "\n",
    "# Defining the bag_of_words function\n",
    "def bag_of_words(tw):\n",
    "    '''(str) -> dict\n",
    "    Input: a string tw (a tweet line)\n",
    "    Output: a python dictionary \n",
    "    '''\n",
    "      \n",
    "    unigram_ls = tokenizer(preprocessor(tw))\n",
    "    \n",
    "    #Create an empty dictionary\n",
    "    bag_words = {}\n",
    "    #Run through tokenized unigram list\n",
    "    for item in unigram_ls:\n",
    "        #Check to see if item is already a key in the dictionary\n",
    "        if item in bag_words.keys():\n",
    "            #If item already in dictionary as a key, increment key value by 1\n",
    "            bag_words[item] += 1\n",
    "        \n",
    "        else:\n",
    "            #For item in list, add item as key,set key value to 1\n",
    "            bag_words[item] = 1\n",
    "           \n",
    "    return bag_words\n",
    "\n",
    "\n",
    "\n",
    "# Defining the party function\n",
    "def party(tw):\n",
    "    '''\n",
    "    (str) -> str\n",
    "    Input: a string tw (a tweet line)\n",
    "    Output: a string determining the political part for a tweet \n",
    "    \n",
    "    >>> party(\"living the dream. #tommulcair instagram.com/p/8up9qekxw/\")\n",
    "    \n",
    "    'NDP'\n",
    "    \n",
    "    4 possible categories are : 'Liberal', 'Conservative', 'NDP', Others'\n",
    "    \n",
    "    #tags Classifications used for each political party\n",
    "    Liberal: #realchage, #justin, #trudeau, #liberal, #justintrudeau, #lpc #liberalparty\n",
    "    \n",
    "    Conservative: #harper, #cpc, #conservative, #stephen, #stephenharper, #conservativeparty\n",
    "    \n",
    "    NDP: #tommulclair, #tom, #mulclair, #ndp, #thomasmulcair, #ready4change\n",
    "    \n",
    "    Other: #greenparty, #green, #canadiangreens, #gpc, #elizabethmay\n",
    "    \n",
    "    The function picks up on the above defined key hashtags. These hashtags were selected to be most relevant for \n",
    "    each of the polictical parties after a brief survey of tweets pertaining to the canadaian election.\n",
    "    The function creates a dictionary keeping track of the frequency of key words pertaining to each political party and\n",
    "    outputs the party name with the highest number of keyword hits\n",
    "    \n",
    "    '''\n",
    "    #create a bag of words dictionary of the inputed tweet\n",
    "    bag_words = bag_of_words(tw)\n",
    "    \n",
    "    #Create lists holding the hashtag words for each of the parties\n",
    "    liberal_ls = ['realchange','justin','trudeau','liberal','justintrudeau','lpc','teamtrudeau','liberalparty','sophie','trudeau4pm','justin4pm']\n",
    "    conservative_ls = ['harper','cpc','conservative','stephen','stephenharper', 'conservativeparty','harper4pm']\n",
    "    ndp_ls = ['tommulcair','tom','mulcair','ndp','thomasmulcair','ready4change','mulcair4pm']\n",
    "    other_ls = ['greenparty', 'green', 'canadiangreens', 'gpc', 'elizabethmay']\n",
    "    \n",
    "    #create intial party dictionary to hold nubmer of times (count) a party's associated keyword occurs\n",
    "    party_dict = {'NDP':0, 'Liberal':0, 'Conservative':0,'Others':0}\n",
    "    \n",
    "    for key in bag_words:\n",
    "        #Check if the key is a keyword in each of the political parties lists\n",
    "               \n",
    "        if key in liberal_ls:\n",
    "            # Increase the count for keywords of that party by the number of times that keyword occurs\n",
    "            party_dict['Liberal'] += bag_words[key]\n",
    "        \n",
    "        if key in conservative_ls:\n",
    "            # Increase the count for keywords of that party by the number of times that keyword occurs\n",
    "            party_dict['Conservative'] += bag_words[key]\n",
    "        \n",
    "        if key in ndp_ls:\n",
    "            # Increase the count for keywords of that party by the number of times that keyword occurs\n",
    "            party_dict['NDP'] += bag_words[key]\n",
    "        \n",
    "        if key in other_ls:\n",
    "            # Increase the count for keywords of that party by the number of times that keyword occurs\n",
    "            party_dict['Others'] += bag_words[key]\n",
    "            \n",
    "    #create a new string party variable with default other\n",
    "    #and update its value based on the party with the most frequency of keywords/hashtags\n",
    "    party_name = 'Others'\n",
    "    for key in party_dict:\n",
    "        if party_dict[key] > party_dict[party_name]:\n",
    "            #update party name value\n",
    "            party_name = key\n",
    "    \n",
    "    \n",
    "    return party_name\n",
    "    \n"
   ]
  },
  {
   "cell_type": "code",
   "execution_count": 136,
   "metadata": {
    "scrolled": false
   },
   "outputs": [
    {
     "data": {
      "text/html": [
       "<div>\n",
       "<style scoped>\n",
       "    .dataframe tbody tr th:only-of-type {\n",
       "        vertical-align: middle;\n",
       "    }\n",
       "\n",
       "    .dataframe tbody tr th {\n",
       "        vertical-align: top;\n",
       "    }\n",
       "\n",
       "    .dataframe thead th {\n",
       "        text-align: right;\n",
       "    }\n",
       "</style>\n",
       "<table border=\"1\" class=\"dataframe\">\n",
       "  <thead>\n",
       "    <tr style=\"text-align: right;\">\n",
       "      <th></th>\n",
       "      <th>Tweet</th>\n",
       "      <th>Sentiment</th>\n",
       "      <th>Party</th>\n",
       "    </tr>\n",
       "  </thead>\n",
       "  <tbody>\n",
       "    <tr>\n",
       "      <th>0</th>\n",
       "      <td>living dream. #cameraman #camera #cameraceptio...</td>\n",
       "      <td>0</td>\n",
       "      <td>NDP</td>\n",
       "    </tr>\n",
       "    <tr>\n",
       "      <th>1</th>\n",
       "      <td>justin #trudeau's reasons thanksgiving. today'...</td>\n",
       "      <td>4</td>\n",
       "      <td>Liberal</td>\n",
       "    </tr>\n",
       "    <tr>\n",
       "      <th>2</th>\n",
       "      <td>@themadape butt…..butt…..we’re allergic latex!...</td>\n",
       "      <td>0</td>\n",
       "      <td>Others</td>\n",
       "    </tr>\n",
       "    <tr>\n",
       "      <th>3</th>\n",
       "      <td>massive explosions peace march #turkey. killed...</td>\n",
       "      <td>4</td>\n",
       "      <td>Others</td>\n",
       "    </tr>\n",
       "    <tr>\n",
       "      <th>4</th>\n",
       "      <td>#mulcair suggests there’s bad blood #trudeau w...</td>\n",
       "      <td>4</td>\n",
       "      <td>NDP</td>\n",
       "    </tr>\n",
       "    <tr>\n",
       "      <th>5</th>\n",
       "      <td>#polqc se sort de la marde avec #harper et prê...</td>\n",
       "      <td>4</td>\n",
       "      <td>Liberal</td>\n",
       "    </tr>\n",
       "    <tr>\n",
       "      <th>6</th>\n",
       "      <td>harper gave $m help countries' get right wing ...</td>\n",
       "      <td>4</td>\n",
       "      <td>Conservative</td>\n",
       "    </tr>\n",
       "    <tr>\n",
       "      <th>7</th>\n",
       "      <td>tommy taylor added</td>\n",
       "      <td>4</td>\n",
       "      <td>Others</td>\n",
       "    </tr>\n",
       "    <tr>\n",
       "      <th>8</th>\n",
       "      <td>@justintrudeau? @thomasmulcair</td>\n",
       "      <td>4</td>\n",
       "      <td>NDP</td>\n",
       "    </tr>\n",
       "    <tr>\n",
       "      <th>9</th>\n",
       "      <td>tracy retweeted tsec</td>\n",
       "      <td>4</td>\n",
       "      <td>Others</td>\n",
       "    </tr>\n",
       "  </tbody>\n",
       "</table>\n",
       "</div>"
      ],
      "text/plain": [
       "                                               Tweet Sentiment         Party\n",
       "0  living dream. #cameraman #camera #cameraceptio...         0           NDP\n",
       "1  justin #trudeau's reasons thanksgiving. today'...         4       Liberal\n",
       "2  @themadape butt…..butt…..we’re allergic latex!...         0        Others\n",
       "3  massive explosions peace march #turkey. killed...         4        Others\n",
       "4  #mulcair suggests there’s bad blood #trudeau w...         4           NDP\n",
       "5  #polqc se sort de la marde avec #harper et prê...         4       Liberal\n",
       "6  harper gave $m help countries' get right wing ...         4  Conservative\n",
       "7                                tommy taylor added          4        Others\n",
       "8                    @justintrudeau? @thomasmulcair          4           NDP\n",
       "9                              tracy retweeted tsec          4        Others"
      ]
     },
     "execution_count": 136,
     "metadata": {},
     "output_type": "execute_result"
    }
   ],
   "source": [
    "# Run our Party assignement function through the data set\n",
    "unclassified_df['Party'] = unclassified_df['Tweet'].apply(party)\n",
    "unclassified_df.head(10)"
   ]
  },
  {
   "cell_type": "code",
   "execution_count": 155,
   "metadata": {},
   "outputs": [
    {
     "data": {
      "text/html": [
       "<div>\n",
       "<style scoped>\n",
       "    .dataframe tbody tr th:only-of-type {\n",
       "        vertical-align: middle;\n",
       "    }\n",
       "\n",
       "    .dataframe tbody tr th {\n",
       "        vertical-align: top;\n",
       "    }\n",
       "\n",
       "    .dataframe thead th {\n",
       "        text-align: right;\n",
       "    }\n",
       "</style>\n",
       "<table border=\"1\" class=\"dataframe\">\n",
       "  <thead>\n",
       "    <tr style=\"text-align: right;\">\n",
       "      <th></th>\n",
       "      <th>Tweet</th>\n",
       "      <th>Sentiment</th>\n",
       "      <th>Party</th>\n",
       "      <th>Count</th>\n",
       "    </tr>\n",
       "  </thead>\n",
       "  <tbody>\n",
       "    <tr>\n",
       "      <th>0</th>\n",
       "      <td>living dream. #cameraman #camera #cameraceptio...</td>\n",
       "      <td>0</td>\n",
       "      <td>NDP</td>\n",
       "      <td>1</td>\n",
       "    </tr>\n",
       "    <tr>\n",
       "      <th>1</th>\n",
       "      <td>justin #trudeau's reasons thanksgiving. today'...</td>\n",
       "      <td>4</td>\n",
       "      <td>Liberal</td>\n",
       "      <td>1</td>\n",
       "    </tr>\n",
       "    <tr>\n",
       "      <th>2</th>\n",
       "      <td>@themadape butt…..butt…..we’re allergic latex!...</td>\n",
       "      <td>0</td>\n",
       "      <td>Others</td>\n",
       "      <td>1</td>\n",
       "    </tr>\n",
       "    <tr>\n",
       "      <th>3</th>\n",
       "      <td>massive explosions peace march #turkey. killed...</td>\n",
       "      <td>4</td>\n",
       "      <td>Others</td>\n",
       "      <td>1</td>\n",
       "    </tr>\n",
       "    <tr>\n",
       "      <th>4</th>\n",
       "      <td>#mulcair suggests there’s bad blood #trudeau w...</td>\n",
       "      <td>4</td>\n",
       "      <td>NDP</td>\n",
       "      <td>1</td>\n",
       "    </tr>\n",
       "    <tr>\n",
       "      <th>5</th>\n",
       "      <td>#polqc se sort de la marde avec #harper et prê...</td>\n",
       "      <td>4</td>\n",
       "      <td>Liberal</td>\n",
       "      <td>1</td>\n",
       "    </tr>\n",
       "    <tr>\n",
       "      <th>6</th>\n",
       "      <td>harper gave $m help countries' get right wing ...</td>\n",
       "      <td>4</td>\n",
       "      <td>Conservative</td>\n",
       "      <td>1</td>\n",
       "    </tr>\n",
       "    <tr>\n",
       "      <th>7</th>\n",
       "      <td>tommy taylor added</td>\n",
       "      <td>4</td>\n",
       "      <td>Others</td>\n",
       "      <td>1</td>\n",
       "    </tr>\n",
       "    <tr>\n",
       "      <th>8</th>\n",
       "      <td>@justintrudeau? @thomasmulcair</td>\n",
       "      <td>4</td>\n",
       "      <td>NDP</td>\n",
       "      <td>1</td>\n",
       "    </tr>\n",
       "    <tr>\n",
       "      <th>9</th>\n",
       "      <td>tracy retweeted tsec</td>\n",
       "      <td>4</td>\n",
       "      <td>Others</td>\n",
       "      <td>1</td>\n",
       "    </tr>\n",
       "  </tbody>\n",
       "</table>\n",
       "</div>"
      ],
      "text/plain": [
       "                                               Tweet Sentiment         Party  \\\n",
       "0  living dream. #cameraman #camera #cameraceptio...         0           NDP   \n",
       "1  justin #trudeau's reasons thanksgiving. today'...         4       Liberal   \n",
       "2  @themadape butt…..butt…..we’re allergic latex!...         0        Others   \n",
       "3  massive explosions peace march #turkey. killed...         4        Others   \n",
       "4  #mulcair suggests there’s bad blood #trudeau w...         4           NDP   \n",
       "5  #polqc se sort de la marde avec #harper et prê...         4       Liberal   \n",
       "6  harper gave $m help countries' get right wing ...         4  Conservative   \n",
       "7                                tommy taylor added          4        Others   \n",
       "8                    @justintrudeau? @thomasmulcair          4           NDP   \n",
       "9                              tracy retweeted tsec          4        Others   \n",
       "\n",
       "   Count  \n",
       "0      1  \n",
       "1      1  \n",
       "2      1  \n",
       "3      1  \n",
       "4      1  \n",
       "5      1  \n",
       "6      1  \n",
       "7      1  \n",
       "8      1  \n",
       "9      1  "
      ]
     },
     "execution_count": 155,
     "metadata": {},
     "output_type": "execute_result"
    }
   ],
   "source": [
    "unclassified_df['Count'] = 1\n",
    "unclassified_df.head(10)"
   ]
  },
  {
   "cell_type": "code",
   "execution_count": 195,
   "metadata": {},
   "outputs": [
    {
     "name": "stdout",
     "output_type": "stream",
     "text": [
      "               Count                                   \n",
      "               count mean  std  min  25%  50%  75%  max\n",
      "Party                                                  \n",
      "Conservative   413.0  1.0  0.0  1.0  1.0  1.0  1.0  1.0\n",
      "Liberal        565.0  1.0  0.0  1.0  1.0  1.0  1.0  1.0\n",
      "NDP            396.0  1.0  0.0  1.0  1.0  1.0  1.0  1.0\n",
      "Others        1639.0  1.0  0.0  1.0  1.0  1.0  1.0  1.0\n"
     ]
    }
   ],
   "source": [
    "party_db = unclassified_df[['Party','Sentiment','Count']]\n",
    "print(party_db.groupby('Party').describe())"
   ]
  },
  {
   "cell_type": "code",
   "execution_count": 213,
   "metadata": {},
   "outputs": [
    {
     "data": {
      "text/html": [
       "<div>\n",
       "<style scoped>\n",
       "    .dataframe tbody tr th:only-of-type {\n",
       "        vertical-align: middle;\n",
       "    }\n",
       "\n",
       "    .dataframe tbody tr th {\n",
       "        vertical-align: top;\n",
       "    }\n",
       "\n",
       "    .dataframe thead th {\n",
       "        text-align: right;\n",
       "    }\n",
       "</style>\n",
       "<table border=\"1\" class=\"dataframe\">\n",
       "  <thead>\n",
       "    <tr style=\"text-align: right;\">\n",
       "      <th>Party</th>\n",
       "      <th>Conservative</th>\n",
       "      <th>Liberal</th>\n",
       "      <th>NDP</th>\n",
       "      <th>Others</th>\n",
       "    </tr>\n",
       "    <tr>\n",
       "      <th>Sentiment</th>\n",
       "      <th></th>\n",
       "      <th></th>\n",
       "      <th></th>\n",
       "      <th></th>\n",
       "    </tr>\n",
       "  </thead>\n",
       "  <tbody>\n",
       "    <tr>\n",
       "      <th>0</th>\n",
       "      <td>206</td>\n",
       "      <td>113</td>\n",
       "      <td>88</td>\n",
       "      <td>330</td>\n",
       "    </tr>\n",
       "    <tr>\n",
       "      <th>4</th>\n",
       "      <td>207</td>\n",
       "      <td>452</td>\n",
       "      <td>308</td>\n",
       "      <td>1309</td>\n",
       "    </tr>\n",
       "  </tbody>\n",
       "</table>\n",
       "</div>"
      ],
      "text/plain": [
       "Party      Conservative  Liberal  NDP  Others\n",
       "Sentiment                                    \n",
       "0                   206      113   88     330\n",
       "4                   207      452  308    1309"
      ]
     },
     "execution_count": 213,
     "metadata": {},
     "output_type": "execute_result"
    }
   ],
   "source": [
    "pvt_party = party_db.pivot_table(values='Count',index='Sentiment',columns='Party',aggfunc=np.sum)\n",
    "pvt_party"
   ]
  },
  {
   "cell_type": "code",
   "execution_count": 214,
   "metadata": {},
   "outputs": [
    {
     "data": {
      "text/html": [
       "<div>\n",
       "<style scoped>\n",
       "    .dataframe tbody tr th:only-of-type {\n",
       "        vertical-align: middle;\n",
       "    }\n",
       "\n",
       "    .dataframe tbody tr th {\n",
       "        vertical-align: top;\n",
       "    }\n",
       "\n",
       "    .dataframe thead th {\n",
       "        text-align: right;\n",
       "    }\n",
       "</style>\n",
       "<table border=\"1\" class=\"dataframe\">\n",
       "  <thead>\n",
       "    <tr style=\"text-align: right;\">\n",
       "      <th>Sentiment</th>\n",
       "      <th>Negative</th>\n",
       "      <th>Positive</th>\n",
       "    </tr>\n",
       "    <tr>\n",
       "      <th>Party</th>\n",
       "      <th></th>\n",
       "      <th></th>\n",
       "    </tr>\n",
       "  </thead>\n",
       "  <tbody>\n",
       "    <tr>\n",
       "      <th>Conservative</th>\n",
       "      <td>206</td>\n",
       "      <td>207</td>\n",
       "    </tr>\n",
       "    <tr>\n",
       "      <th>Liberal</th>\n",
       "      <td>113</td>\n",
       "      <td>452</td>\n",
       "    </tr>\n",
       "    <tr>\n",
       "      <th>NDP</th>\n",
       "      <td>88</td>\n",
       "      <td>308</td>\n",
       "    </tr>\n",
       "    <tr>\n",
       "      <th>Others</th>\n",
       "      <td>330</td>\n",
       "      <td>1309</td>\n",
       "    </tr>\n",
       "  </tbody>\n",
       "</table>\n",
       "</div>"
      ],
      "text/plain": [
       "Sentiment     Negative  Positive\n",
       "Party                           \n",
       "Conservative       206       207\n",
       "Liberal            113       452\n",
       "NDP                 88       308\n",
       "Others             330      1309"
      ]
     },
     "execution_count": 214,
     "metadata": {},
     "output_type": "execute_result"
    }
   ],
   "source": [
    "# Renaming the Indices to reflect positive and negative statements\n",
    "pvt_party = pvt_party.rename(index={'0':'Negative', '4':'Positive'})\n",
    "pvt_party.transpose()"
   ]
  },
  {
   "cell_type": "code",
   "execution_count": 228,
   "metadata": {
    "scrolled": false
   },
   "outputs": [
    {
     "data": {
      "image/png": "[encoded data removed]",
      "text/plain": [
       "<Figure size 1080x720 with 1 Axes>"
      ]
     },
     "metadata": {
      "needs_background": "light"
     },
     "output_type": "display_data"
    }
   ],
   "source": [
    "pvt_party.transpose().plot.bar(figsize=(15,10))\n",
    "#label the figure\n",
    "plt.title('Political Party Tweet Sentiments 2015 Elections')\n",
    "plt.ylabel('Number of Tweets')\n",
    "plt.savefig('Politiacal Sentiments 2015 Elections.png', dpi=100)"
   ]
  },
  {
   "cell_type": "code",
   "execution_count": 226,
   "metadata": {},
   "outputs": [
    {
     "data": {
      "text/html": [
       "<div>\n",
       "<style scoped>\n",
       "    .dataframe tbody tr th:only-of-type {\n",
       "        vertical-align: middle;\n",
       "    }\n",
       "\n",
       "    .dataframe tbody tr th {\n",
       "        vertical-align: top;\n",
       "    }\n",
       "\n",
       "    .dataframe thead th {\n",
       "        text-align: right;\n",
       "    }\n",
       "</style>\n",
       "<table border=\"1\" class=\"dataframe\">\n",
       "  <thead>\n",
       "    <tr style=\"text-align: right;\">\n",
       "      <th>Sentiment</th>\n",
       "      <th>Negative</th>\n",
       "      <th>Positive</th>\n",
       "    </tr>\n",
       "    <tr>\n",
       "      <th>Party</th>\n",
       "      <th></th>\n",
       "      <th></th>\n",
       "    </tr>\n",
       "  </thead>\n",
       "  <tbody>\n",
       "    <tr>\n",
       "      <th>Conservative</th>\n",
       "      <td>206</td>\n",
       "      <td>207</td>\n",
       "    </tr>\n",
       "    <tr>\n",
       "      <th>Liberal</th>\n",
       "      <td>113</td>\n",
       "      <td>452</td>\n",
       "    </tr>\n",
       "    <tr>\n",
       "      <th>NDP</th>\n",
       "      <td>88</td>\n",
       "      <td>308</td>\n",
       "    </tr>\n",
       "    <tr>\n",
       "      <th>Others</th>\n",
       "      <td>330</td>\n",
       "      <td>1309</td>\n",
       "    </tr>\n",
       "  </tbody>\n",
       "</table>\n",
       "</div>"
      ],
      "text/plain": [
       "Sentiment     Negative  Positive\n",
       "Party                           \n",
       "Conservative       206       207\n",
       "Liberal            113       452\n",
       "NDP                 88       308\n",
       "Others             330      1309"
      ]
     },
     "execution_count": 226,
     "metadata": {},
     "output_type": "execute_result"
    }
   ],
   "source": [
    "pvt_party3 = pvt_party.transpose()\n",
    "#conservative_sum = pvt_party2.loc['Conservative']['Negative'] + pvt_party2.loc['Conservative']['Positive']\n",
    "\n",
    "#conservative_sum\n",
    "pvt_party3"
   ]
  },
  {
   "cell_type": "code",
   "execution_count": 217,
   "metadata": {},
   "outputs": [],
   "source": [
    "pvt_party3.sum(axis=1)\n",
    "csum = pvt_party3.sum(axis=1).loc['Conservative']\n",
    "lsum = pvt_party3.sum(axis=1).loc['Liberal']\n",
    "nsum = pvt_party3.sum(axis=1).loc['NDP']\n",
    "osum = pvt_party3.sum(axis=1).loc['Others']"
   ]
  },
  {
   "cell_type": "code",
   "execution_count": 224,
   "metadata": {},
   "outputs": [
    {
     "data": {
      "text/html": [
       "<div>\n",
       "<style scoped>\n",
       "    .dataframe tbody tr th:only-of-type {\n",
       "        vertical-align: middle;\n",
       "    }\n",
       "\n",
       "    .dataframe tbody tr th {\n",
       "        vertical-align: top;\n",
       "    }\n",
       "\n",
       "    .dataframe thead th {\n",
       "        text-align: right;\n",
       "    }\n",
       "</style>\n",
       "<table border=\"1\" class=\"dataframe\">\n",
       "  <thead>\n",
       "    <tr style=\"text-align: right;\">\n",
       "      <th>Sentiment</th>\n",
       "      <th>Negative</th>\n",
       "      <th>Positive</th>\n",
       "    </tr>\n",
       "    <tr>\n",
       "      <th>Party</th>\n",
       "      <th></th>\n",
       "      <th></th>\n",
       "    </tr>\n",
       "  </thead>\n",
       "  <tbody>\n",
       "    <tr>\n",
       "      <th>Conservative</th>\n",
       "      <td>206</td>\n",
       "      <td>207</td>\n",
       "    </tr>\n",
       "    <tr>\n",
       "      <th>Liberal</th>\n",
       "      <td>113</td>\n",
       "      <td>452</td>\n",
       "    </tr>\n",
       "    <tr>\n",
       "      <th>NDP</th>\n",
       "      <td>88</td>\n",
       "      <td>308</td>\n",
       "    </tr>\n",
       "    <tr>\n",
       "      <th>Others</th>\n",
       "      <td>330</td>\n",
       "      <td>1309</td>\n",
       "    </tr>\n",
       "  </tbody>\n",
       "</table>\n",
       "</div>"
      ],
      "text/plain": [
       "Sentiment     Negative  Positive\n",
       "Party                           \n",
       "Conservative       206       207\n",
       "Liberal            113       452\n",
       "NDP                 88       308\n",
       "Others             330      1309"
      ]
     },
     "execution_count": 224,
     "metadata": {},
     "output_type": "execute_result"
    }
   ],
   "source": [
    "pvt_partyp =pvt_party3.copy()\n",
    "pvt_partyp"
   ]
  },
  {
   "cell_type": "code",
   "execution_count": 227,
   "metadata": {},
   "outputs": [
    {
     "data": {
      "text/html": [
       "<div>\n",
       "<style scoped>\n",
       "    .dataframe tbody tr th:only-of-type {\n",
       "        vertical-align: middle;\n",
       "    }\n",
       "\n",
       "    .dataframe tbody tr th {\n",
       "        vertical-align: top;\n",
       "    }\n",
       "\n",
       "    .dataframe thead th {\n",
       "        text-align: right;\n",
       "    }\n",
       "</style>\n",
       "<table border=\"1\" class=\"dataframe\">\n",
       "  <thead>\n",
       "    <tr style=\"text-align: right;\">\n",
       "      <th>Sentiment</th>\n",
       "      <th>Negative</th>\n",
       "      <th>Positive</th>\n",
       "    </tr>\n",
       "    <tr>\n",
       "      <th>Party</th>\n",
       "      <th></th>\n",
       "      <th></th>\n",
       "    </tr>\n",
       "  </thead>\n",
       "  <tbody>\n",
       "    <tr>\n",
       "      <th>Conservative</th>\n",
       "      <td>49</td>\n",
       "      <td>50</td>\n",
       "    </tr>\n",
       "    <tr>\n",
       "      <th>Liberal</th>\n",
       "      <td>20</td>\n",
       "      <td>80</td>\n",
       "    </tr>\n",
       "    <tr>\n",
       "      <th>NDP</th>\n",
       "      <td>22</td>\n",
       "      <td>77</td>\n",
       "    </tr>\n",
       "    <tr>\n",
       "      <th>Others</th>\n",
       "      <td>20</td>\n",
       "      <td>79</td>\n",
       "    </tr>\n",
       "  </tbody>\n",
       "</table>\n",
       "</div>"
      ],
      "text/plain": [
       "Sentiment     Negative  Positive\n",
       "Party                           \n",
       "Conservative        49        50\n",
       "Liberal             20        80\n",
       "NDP                 22        77\n",
       "Others              20        79"
      ]
     },
     "execution_count": 227,
     "metadata": {},
     "output_type": "execute_result"
    }
   ],
   "source": [
    "pvt_partyp.loc['Conservative']['Negative'] = (pvt_party3.loc['Conservative']['Negative']/csum)*100.0\n",
    "pvt_partyp.loc['Conservative']['Positive'] = (pvt_party3.loc['Conservative']['Positive']/csum)*100.0\n",
    "pvt_partyp.loc['Liberal']['Negative'] = (pvt_party3.loc['Liberal']['Negative']/lsum)*100.0\n",
    "pvt_partyp.loc['Liberal']['Positive'] = (pvt_party3.loc['Liberal']['Positive']/lsum)*100.0\n",
    "pvt_partyp.loc['NDP']['Negative'] = (pvt_party3.loc['NDP']['Negative']/nsum)*100.0\n",
    "pvt_partyp.loc['NDP']['Positive'] = (pvt_party3.loc['NDP']['Positive']/nsum)*100.0\n",
    "pvt_partyp.loc['Others']['Negative'] = (pvt_party3.loc['Others']['Negative']/osum)*100.0\n",
    "pvt_partyp.loc['Others']['Positive'] = (pvt_party3.loc['Others']['Positive']/osum)*100.0\n",
    "\n",
    "pvt_partyp"
   ]
  },
  {
   "cell_type": "code",
   "execution_count": 231,
   "metadata": {},
   "outputs": [
    {
     "data": {
      "image/png": "[encoded data removed]",
      "text/plain": [
       "<Figure size 1080x720 with 1 Axes>"
      ]
     },
     "metadata": {
      "needs_background": "light"
     },
     "output_type": "display_data"
    }
   ],
   "source": [
    "pvt_partyp.plot.bar(figsize=(15,10))\n",
    "#label the figure\n",
    "plt.title('Political Party Tweet Sentiments 2015 Elections %')\n",
    "plt.ylabel('% of Tweets')\n",
    "plt.savefig('Politiacal Sentiments 2015 Elections %.png', dpi=100)"
   ]
  }
 ],
 "metadata": {
  "kernelspec": {
   "display_name": "Python 3",
   "language": "python",
   "name": "python3"
  },
  "language_info": {
   "codemirror_mode": {
    "name": "ipython",
    "version": 3
   },
   "file_extension": ".py",
   "mimetype": "text/x-python",
   "name": "python",
   "nbconvert_exporter": "python",
   "pygments_lexer": "ipython3",
   "version": "3.7.3"
  }
 },
 "nbformat": 4,
 "nbformat_minor": 2
}
